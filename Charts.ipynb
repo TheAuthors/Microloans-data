{
 "cells": [
  {
   "cell_type": "code",
   "execution_count": 1,
   "id": "63081da0-565c-45e0-90c6-8e70deffb3e2",
   "metadata": {},
   "outputs": [],
   "source": [
    "from Func import *\n",
    "\n",
    "pd.set_option('display.max_columns', None)"
   ]
  },
  {
   "cell_type": "code",
   "execution_count": 2,
   "id": "c5a38608-eeda-4e12-927f-057a242815ae",
   "metadata": {},
   "outputs": [
    {
     "data": {
      "text/plain": [
       "0"
      ]
     },
     "execution_count": 2,
     "metadata": {},
     "output_type": "execute_result"
    }
   ],
   "source": [
    "df_prod = pd.read_csv(os.path.abspath('Datasets/Prod.csv'))\n",
    "df_post = pd.read_csv(os.path.abspath('Datasets/Post.csv'))\n",
    "    \n",
    "df_post['click time'] = pd.to_datetime(df_post['click time'], format=\"%Y-%m-%d %H:%M:%S\")\n",
    "df_post['conversion time'] = pd.to_datetime(df_post['conversion time'], format=\"%Y-%m-%d %H:%M:%S\")\n",
    "df_post['sale time'] = pd.to_datetime(df_post['sale time'], format=\"%Y-%m-%d %H:%M:%S\")\n",
    "\n",
    "\n",
    "\n",
    "df_cl = pd.read_csv(os.path.abspath('Datasets/Clicks.csv'))\n",
    "df_cl['click time'] = pd.to_datetime(df_cl['click time'], format=\"%Y-%m-%d %H:%M:%S\")\n",
    "\n",
    "\n",
    "df_prod_usual = df_prod[df_prod['loan type'] == 'loan-usual'].copy()\n",
    "\n",
    "df_post_usual = df_post[df_post['loan type'] == 'loan-usual'].copy()\n",
    "df_post_usual['tmp_date'] = df_post_usual['click time'].dt.date\n",
    "subid5(df = df_post_usual, col = \"MFI page rank\")"
   ]
  },
  {
   "cell_type": "markdown",
   "id": "d40ac773-a468-45db-a1d7-f52df68c04b9",
   "metadata": {},
   "source": [
    "# Basic recommender system of microfinance institutions: Charts"
   ]
  },
  {
   "cell_type": "code",
   "execution_count": 3,
   "id": "3fb96e00-df44-4c12-b0f2-9e34ab83f3ad",
   "metadata": {
    "tags": []
   },
   "outputs": [],
   "source": [
    "def save_or_show(p, file_name, SAVE=True, SHOW=False):\n",
    "    if SAVE == True:\n",
    "        output_file(filename= \"Charts/\" + file_name + \".html\", title=file_name)\n",
    "        save(p)\n",
    "    if SHOW == True:\n",
    "        show(p)"
   ]
  },
  {
   "cell_type": "markdown",
   "id": "5429977d-f367-4275-b77e-93c70ace8854",
   "metadata": {
    "tags": []
   },
   "source": [
    "## Figure 1"
   ]
  },
  {
   "cell_type": "markdown",
   "id": "118a0d34-af11-4dad-960f-2fa9986f7b30",
   "metadata": {},
   "source": [
    "Status and loan type distributions."
   ]
  },
  {
   "cell_type": "code",
   "execution_count": 4,
   "id": "23635a8c-8071-4c05-b422-89645120d926",
   "metadata": {
    "tags": []
   },
   "outputs": [],
   "source": [
    "p1 = status_and_loan_type(df_post)\n",
    "save_or_show(p = p1, file_name = \"status_and_loan_type\", SAVE=True, SHOW=False)"
   ]
  },
  {
   "cell_type": "markdown",
   "id": "42b7fee2-0185-4cba-b8bd-3e49832dc956",
   "metadata": {
    "tags": []
   },
   "source": [
    "## Figure 2"
   ]
  },
  {
   "cell_type": "markdown",
   "id": "a6528f2b-a826-477e-9366-6846c1a8bc3f",
   "metadata": {},
   "source": [
    "Dependence of the number of applications on MFI page rank. Left: cumulative number of applications increases with time (for eight highest ranks); right: the number of applications at the last available timestamp."
   ]
  },
  {
   "cell_type": "code",
   "execution_count": 5,
   "id": "5f138482-d0f7-487a-9557-b5cbed23fff6",
   "metadata": {
    "tags": []
   },
   "outputs": [],
   "source": [
    "p2_1 = number_of_req_for_rank_over_time(df_post[df_post['click time'] < pd.to_datetime('2023-12-13')], width=600, height=400)\n",
    "p2_2 = number_of_requests(df_post[df_post['click time'] < pd.to_datetime('2023-12-13')], width=400, height=400)\n",
    "p2_1p2_2 = gridplot([[p2_1,p2_2]], merge_tools=False)\n",
    "save_or_show(p = p2_1p2_2, file_name = \"page_rank_and_numer_of_requests\", SAVE=True, SHOW=False)"
   ]
  },
  {
   "cell_type": "markdown",
   "id": "ed494a57-7cd6-4795-a46a-e5d48c42f8c6",
   "metadata": {
    "tags": []
   },
   "source": [
    "## Figure 3"
   ]
  },
  {
   "cell_type": "markdown",
   "id": "f1c4418e-6f62-4292-a3d3-acd1dbd5fff4",
   "metadata": {},
   "source": [
    "Percentage of applications by MFI id and MFI page rank. At different times, and on different web pages, the rank of a fixed MFI may vary, which is the reason why there is no one-to-one correspondence between MFI id and MFI page rank."
   ]
  },
  {
   "cell_type": "code",
   "execution_count": 6,
   "id": "dbb47876-9304-4eff-8d76-d81336e1aaff",
   "metadata": {},
   "outputs": [],
   "source": [
    "shares_of_MFIs_for_various_ranks(df_post, SHOW=False, SAVE=True)"
   ]
  },
  {
   "cell_type": "markdown",
   "id": "f3dd2b49-a0d3-4347-8a10-72e9648cfc5b",
   "metadata": {
    "tags": []
   },
   "source": [
    "## Figure 4"
   ]
  },
  {
   "cell_type": "markdown",
   "id": "9c498c61-0ce7-4616-8ea3-325e7d63b65e",
   "metadata": {},
   "source": [
    "Visualization of clients by their number of applications (left). MFI id chosen by clients who submitted more than 1 application (right). Clients are ordered by decreasing number of applications. Color corresponds to the number of different MFIs for a client. It is easy to see that clients apply to various MFIs."
   ]
  },
  {
   "cell_type": "code",
   "execution_count": 7,
   "id": "72f26e62-c738-4f47-9513-fc21ba26cb22",
   "metadata": {
    "tags": []
   },
   "outputs": [
    {
     "name": "stdout",
     "output_type": "stream",
     "text": [
      "the share of clients with no more than 1 applications is equal to 0.8238931864866046\n",
      "the share of clients with no more than 5 applications is equal to 0.9955712891336335\n",
      "the share of the former among the latter is equal 0.8275582024905251\n"
     ]
    }
   ],
   "source": [
    "p4_1 = client_difference_size_app(df_post, width=400, height=400)\n",
    "p4_2 = client_difference_app(df_post, width=700, height=400)\n",
    "p4_1p4_2 = gridplot([[p4_1,p4_2]])\n",
    "\n",
    "save_or_show(p = p4_1p4_2, file_name = \"clients_difference\", SAVE=True, SHOW=False)"
   ]
  },
  {
   "cell_type": "markdown",
   "id": "e517a8b7-bb64-4f25-9576-4dc7ace37ad9",
   "metadata": {
    "tags": []
   },
   "source": [
    "## Figure 5"
   ]
  },
  {
   "cell_type": "markdown",
   "id": "d6fcf375-b49a-43da-b882-2efbd88745c5",
   "metadata": {},
   "source": [
    "Income, number of sales and EPC for 4 indicative MFIs:"
   ]
  },
  {
   "cell_type": "code",
   "execution_count": 8,
   "id": "05c0cd3a-28ca-49ca-b708-b3520e8b1759",
   "metadata": {
    "tags": []
   },
   "outputs": [],
   "source": [
    "p5 = income_4_mfis(df_cl)\n",
    "save_or_show(p = p5, file_name = \"income_4_mfis\", SAVE=True, SHOW=False)"
   ]
  },
  {
   "cell_type": "markdown",
   "id": "2050ddbf-30a9-455c-9db7-aac0cff52504",
   "metadata": {
    "tags": []
   },
   "source": [
    "## Figure 7"
   ]
  },
  {
   "cell_type": "markdown",
   "id": "987094ac-2563-4942-9cfa-1620d95bf893",
   "metadata": {},
   "source": [
    "Box plots and whiskers for conversion period (left) and processing period (right) inhours for 6 indicative MFIs. \\\n",
    "Box: lower $Q_{0.03}$, mid $Q_{0.5}$, upper $Q_{0.97}$; \n",
    "whiskers: upper $Q_{0.97} + 1.5(Q_{0.97} - Q_{0.03})$, lower $Q_{0.03} - 1.5(Q_{0.97} - Q_{0.03})$."
   ]
  },
  {
   "cell_type": "code",
   "execution_count": 9,
   "id": "9e3ca9c3-e94a-4d33-aee9-258e330e0c7f",
   "metadata": {
    "tags": []
   },
   "outputs": [],
   "source": [
    "mfi_size = df_post.groupby('MFI id').size().reset_index(name='size').sort_values('size')\n",
    "MFIs = mfi_size['MFI id'].unique()\n",
    "MFIs = list(MFIs[-20:])\n",
    "MFIs = MFIs[-2:] + ['MFI 56','MFI 18','MFI 64','MFI 29']\n",
    "\n",
    "df_post_top_mfi = df_post[df_post['MFI id'].isin(MFIs)][['MFI id', 'click time', 'conversion time', 'sale time']].copy()\n",
    "df_post_top_mfi = df_post_top_mfi[df_post_top_mfi['click time'] >= '2023-01-01'].copy()\n",
    "df_post_top_mfi['time to conversion'] = (df_post_top_mfi['conversion time'] - df_post_top_mfi['click time']).dt.total_seconds() / 3600\n",
    "df_post_top_mfi['time of processing'] = (df_post_top_mfi['sale time'] - df_post_top_mfi['conversion time']).dt.total_seconds() / 3600\n",
    "df_post_top_mfi = df_post_top_mfi[['MFI id', 'time to conversion', 'time of processing']].sort_values('MFI id').copy()\n",
    "tmp = df_post.groupby('MFI id').size().reset_index(name='size').sort_values('size')\n",
    "dict_size = dict(zip(tmp['MFI id'],tmp['size']))\n",
    "df_post_top_mfi['size'] =  df_post_top_mfi['MFI id'].map(dict_size)\n",
    "df_post_top_mfi = df_post_top_mfi.sort_values('size').copy()\n",
    "\n",
    "\n",
    "\n",
    "p7_1 = box_plot(df = df_post_top_mfi,\n",
    "             score = 'time to conversion',\n",
    "            q=0.03)\n",
    "p7_2 = box_plot(df = df_post_top_mfi,\n",
    "             score = 'time of processing',\n",
    "            q=0.03)\n",
    "\n",
    "p7_1p7_2 = gridplot([[p7_1,p7_2]], merge_tools=False)\n",
    "\n",
    "save_or_show(p = p7_1p7_2, file_name = \"time_6_mfi\", SAVE=True, SHOW=False)"
   ]
  },
  {
   "cell_type": "markdown",
   "id": "448e93e5-f228-4df8-874d-cad8224f7b65",
   "metadata": {
    "tags": []
   },
   "source": [
    "## Figure 8"
   ]
  },
  {
   "cell_type": "markdown",
   "id": "7b862741-4ba3-4730-9d68-f16a45f26990",
   "metadata": {},
   "source": [
    "Number of applications (dots) and shares (bars) for status for 6 indicative MFIs:"
   ]
  },
  {
   "cell_type": "code",
   "execution_count": 10,
   "id": "db6bf78f-55ac-4eeb-9ff6-38e575165531",
   "metadata": {
    "tags": []
   },
   "outputs": [],
   "source": [
    "p8 = status_6_mfis(df_post)\n",
    "save_or_show(p = p8, file_name = \"status_6_mfi\", SAVE=True, SHOW=False)"
   ]
  },
  {
   "cell_type": "markdown",
   "id": "a0b2a57a-c85b-4061-a390-c16c1131c948",
   "metadata": {
    "tags": []
   },
   "source": [
    "## Figure 9"
   ]
  },
  {
   "cell_type": "code",
   "execution_count": 11,
   "id": "7ec4bb1d-1ee3-462d-a3b5-54b75da9d7f8",
   "metadata": {},
   "outputs": [],
   "source": [
    "df_status_os = df_post[['MFI id', 'status', 'device browser']].copy()\n",
    "\n",
    "df_status_os['device browser'] = df_status_os['device browser'].apply(lambda x: 1 if x in ['Mobile Safari',\n",
    "                                                                                          'Chrome Mobile iOS',\n",
    "                                                                                          'Safari',\n",
    "                                                                                           'Firefox Mobile iOS'] else 0)\n",
    "\n",
    "status_dict = dict(zip(['sale', 'lead', 'rejected'],\n",
    "                   [1,0,0]))\n",
    "df_status_os['status'] = df_status_os['status'].map(status_dict)\n",
    "\n",
    "tmp = df_status_os.groupby('MFI id').size().reset_index(name='size')\n",
    "mfi_size = dict(zip(tmp['MFI id'], tmp['size']))\n",
    "df_status_os['size'] = df_status_os['MFI id'].map(mfi_size)\n",
    "df_status_os.sort_values('size', inplace=True)\n",
    "df_status_os = df_status_os[df_status_os['size'] > 1].copy()\n",
    "\n",
    "\n",
    "df_gamma = df_status_os.groupby('MFI id', sort=False).apply(lambda x: gamma(x)[0]).reset_index(name='top')\n",
    "df_gamma['left'] = df_status_os.groupby('MFI id', sort=False).apply(lambda x: gamma(x)[1]).reset_index(name='left')['left']\n",
    "df_gamma['right'] = df_status_os.groupby('MFI id', sort=False).apply(lambda x: gamma(x)[2]).reset_index(name='right')['right']\n"
   ]
  },
  {
   "cell_type": "markdown",
   "id": "03f6dffa-436b-4eec-be37-a5aa956abea6",
   "metadata": {},
   "source": [
    "Сolligation coefficient (bar) with 99.5% confidence interval (whiskers) for binary vari- ables: “sale” or not, “iOS” or not for each MFI. MFIs are ordered according to the increasing number of applications. Drops down correspond to lack of approved applications with “iOS” from respective MFIs. Stabilization of the coefficient shows that the dependence between the binary variables is the same among MFIs. Unfortunately, there is no intersection among CIs: a maximum of lower bounds (0.0919) is greater than minimum of upper bounds (0.0605)."
   ]
  },
  {
   "cell_type": "code",
   "execution_count": 12,
   "id": "c5913e15-deda-4ae5-9f40-911a50f12ad2",
   "metadata": {
    "tags": []
   },
   "outputs": [
    {
     "name": "stdout",
     "output_type": "stream",
     "text": [
      "left_max =  0.09194373570520825\n",
      "right_min =  0.06046909552394621\n"
     ]
    }
   ],
   "source": [
    "p9 = corr(df=df_gamma, width=830, height=264, ylable = \"Gamma\")\n",
    "\n",
    "save_or_show(p = p9, file_name = \"gamma_correlation_ios\", SAVE=True, SHOW=False)"
   ]
  },
  {
   "cell_type": "markdown",
   "id": "86954b69-5032-4406-b958-ad933c80489b",
   "metadata": {
    "tags": []
   },
   "source": [
    "## Figure 10"
   ]
  },
  {
   "cell_type": "markdown",
   "id": "b72783e1-0f77-4b48-a384-a2ad097d9645",
   "metadata": {},
   "source": [
    "Reviews for 6 indicative MFIs:"
   ]
  },
  {
   "cell_type": "code",
   "execution_count": 13,
   "id": "fd33bff7-dd2a-4525-ad27-e00fe46ae1a3",
   "metadata": {
    "tags": []
   },
   "outputs": [],
   "source": [
    "p10 = rating_6_mfi(df_post, df_prod)\n",
    "save_or_show(p = p10, file_name = \"rating_6_mfi\", SAVE=True, SHOW=False)"
   ]
  },
  {
   "cell_type": "markdown",
   "id": "21b44ddf-fb3f-4272-85da-a90985c3e6a3",
   "metadata": {
    "tags": []
   },
   "source": [
    "## Figure 11, 12"
   ]
  },
  {
   "cell_type": "code",
   "execution_count": 14,
   "id": "3fa5633b-db29-4a88-a9cb-0aa0918b3d49",
   "metadata": {
    "tags": []
   },
   "outputs": [],
   "source": [
    "df_post_usual['status 2 int'] = df_post_usual['status 2'].map({'sale':1,\n",
    "                               'rejected':0})\n",
    "tmp = df_post_usual.groupby('MFI id').apply(lambda df: df['status 2 int'].sum() / len(df)).reset_index(name='LAR')\n",
    "dict_do = dict(zip(tmp['MFI id'], tmp['LAR']))\n",
    "\n",
    "tmp2 = df_post_usual.groupby('MFI id').apply(lambda df: len(df)).reset_index(name='Num. of app.')\n",
    "dict_do2 = dict(zip(tmp2['MFI id'], tmp2['Num. of app.']))\n",
    "\n",
    "df_prod_usual['LAR'] = df_prod_usual['MFI id'].map(dict_do)\n",
    "df_prod_usual['Num. of app.'] = df_prod_usual['MFI id'].map(dict_do2)\n",
    "\n",
    "df = df_prod_usual[['MFI id', 'Norm. LAR',\n",
    "                              'LAR', 'Num. of app.',\n",
    "                              'Norm. average user rating', 'number of reviews',\n",
    "                              'average user rating']].copy()\n",
    "\n",
    "\n",
    "df.set_index('MFI id', inplace=True)\n",
    "\n",
    "mfi_size = df_post.groupby('MFI id').size().reset_index(name='size').sort_values('size')\n",
    "MFIs = mfi_size['MFI id'].unique()\n",
    "MFIs = list(MFIs[-20:])\n",
    "MFIs = MFIs[-2:] + ['MFI 56','MFI 18','MFI 64','MFI 29']\n",
    "\n",
    "df1 = df[['Num. of app.', 'LAR', 'Norm. LAR']].sort_values('Num. of app.')\n",
    "df1['MFI id'] = [i for i in range(len(df))]\n",
    "df1 = df1[['MFI id', 'Num. of app.', 'LAR', 'Norm. LAR']]\n",
    "\n",
    "df2 = df[['number of reviews', 'average user rating', 'Norm. average user rating']].sort_values('number of reviews')\n",
    "df2['MFI id'] = [i for i in range(len(df))]\n",
    "df2 = df2[['MFI id', 'number of reviews', 'average user rating', 'Norm. average user rating']]"
   ]
  },
  {
   "cell_type": "markdown",
   "id": "4876964f-4e6b-4fff-a4df-46f950bcbca2",
   "metadata": {},
   "source": [
    "Parallel plot for loan approval rate before and after normalization. MFIs whose rank by LAR decreased after normalization are shown in red, MFIs whose rank by LAR increased — in green. Indicative 6 MFIs are highlighted in bold. A large number of applications for MFI 20, MFI 87 and MFI 56 (12380, 10704, 8302) lowered their rank due to weak approval rates (0.038, 0.052, 0.048). On the other hand, a large number of applications for MFI 18 (5075) significantly strengthened its rather high rank by the approval rate (0.23)."
   ]
  },
  {
   "cell_type": "code",
   "execution_count": 15,
   "id": "10707f19-954c-413c-a19e-e0ac9d713f7f",
   "metadata": {
    "tags": []
   },
   "outputs": [],
   "source": [
    "color1 = pd.Series((rankdata(df1['Norm. LAR']) >= rankdata(df1['LAR']))*1)\n",
    "p11 = parallel_plot(df=df1, color=color1, palette=[dict_pallets[3], dict_pallets[4]], MFIs = MFIs, width=900, height=400)\n",
    "save_or_show(p = p11, file_name = \"normlar\", SAVE=True, SHOW=False)"
   ]
  },
  {
   "cell_type": "markdown",
   "id": "3e6ea609-dc10-4521-a8f6-7c8f7b719517",
   "metadata": {},
   "source": [
    "Parallel plot for average user rating before and after normalization. MFIs whose rank by rating decreased after normalization are shown in red and MFIs whose rank by rating increased — in green. Indicative 6 MFIs are highlighted in bold. MFI 64 with a significant number of reviews (339) and a positive rating (4) strengthened its position. MFI 20 with a poor rating (3.3) and a moderate number of reviews (143) lowered its position. We can also notice that top 4 MFIs with a great initial rating (≈ 5) lowered its rank as they have very few reviews, but still remained in the top positions."
   ]
  },
  {
   "cell_type": "code",
   "execution_count": 17,
   "id": "433bfb0b-a182-4eaa-9a4f-181c7c0fe471",
   "metadata": {
    "tags": []
   },
   "outputs": [],
   "source": [
    "color2 = (rankdata(df2['Norm. average user rating']) >= rankdata(df2['average user rating']))*1\n",
    "p12 = parallel_plot(df=df2, color=color2, palette=[dict_pallets[3], dict_pallets[4]], MFIs = MFIs, width=900, height=400)\n",
    "save_or_show(p = p12, file_name = \"normrate\", SAVE=True, SHOW=False)"
   ]
  },
  {
   "cell_type": "markdown",
   "id": "dd6c897e-50c7-48e2-a6b1-1509b81571e7",
   "metadata": {
    "tags": []
   },
   "source": [
    "## Figure 15, 16, 19"
   ]
  },
  {
   "cell_type": "code",
   "execution_count": 18,
   "id": "1b3b4d3b-55f5-415e-a5a1-52f1c4ef4ab7",
   "metadata": {},
   "outputs": [],
   "source": [
    "# find the names of all ranks that contain the letters == '1a', '2a', '1a-amp' ...\n",
    "ranks_AB_test = df_cl['MFI page rank'].value_counts()\n",
    "names_ranks_AB_test = [i  for i in ranks_AB_test.index if i.isupper() or i.islower() ]\n",
    "\n",
    "# list of key names \n",
    "pages_key_words_AB_test = ['pensioneram', 'bez-snils', 'kruglosutochnye', '100000-rublej',  'qiwi']\n",
    "\n",
    "# function that checks if the page belongs to the AB test, returns true/false \n",
    "def check_AB_test_page(page):\n",
    "    if type(page) == str:\n",
    "        return np.max([page.find(name) for name in pages_key_words_AB_test ]) != -1\n",
    "    elif math.isnan(page):\n",
    "        return page\n",
    "# true/false column of page belonging to the list of pages\n",
    "df_cl['AB_test_page'] = df_cl['page id'].apply(check_AB_test_page)\n",
    "\n",
    "# function that checks if the page belongs to AB-testing, returns the keyword \n",
    "def check_AB_test_page2(page):\n",
    "    if type(page) == str:\n",
    "        if (np.max([page.find(name) for name in pages_key_words_AB_test ]) != -1) == True:\n",
    "            idx = np.max([page.find(name) for name in pages_key_words_AB_test ])\n",
    "            return page[idx]\n",
    "        else:\n",
    "            return np.nan\n",
    "    elif math.isnan(page):\n",
    "        return page\n",
    "# true/false column of page belonging to the list of pages\n",
    "df_cl['AB_test_page'] = df_cl['page id'].apply(check_AB_test_page)\n",
    "df_cl['AB_test_page_key'] = df_cl['page id'].apply(check_AB_test_page2)\n",
    "\n",
    "\n",
    "#Applications in clicks that have matmodel ranks appearing, but are not in the list of intended pages\n",
    "\n",
    "df_cl['AB_test_by_rank'] = df_cl['MFI page rank' ].isin(names_ranks_AB_test)\n",
    "\n",
    "df_cl_ = df_cl.copy()\n",
    "df_cl_ = df_cl_[~df_cl_['income'].isna()].copy()\n",
    "df_cl_ = df_cl_[~df_cl_['AB_test_page_key'].isna()].copy()\n",
    "\n",
    "\n",
    "df_cl_['Sales'] = df_cl_['income'].apply(lambda x: int(x > 0))\n",
    "\n",
    "dict_map_rename1 = dict(zip(['b', '1', 'p', 'q', 'k'],['1', '2', '3', '4', '5']))\n",
    "df_cl['AB_test_page_key'] = df_cl['AB_test_page_key'].map(dict_map_rename1)\n",
    "df_cl_['AB_test_page_key'] = df_cl_['AB_test_page_key'].map(dict_map_rename1)"
   ]
  },
  {
   "cell_type": "code",
   "execution_count": 19,
   "id": "acd95831-9f14-45c5-984a-30862f758ec6",
   "metadata": {},
   "outputs": [],
   "source": [
    "df_conv = df_post.copy()\n",
    "\n",
    "ranks_AB_test = df_conv['MFI page rank ab'].value_counts()\n",
    "names_ranks_AB_test = [i  for i in ranks_AB_test.index if i.isupper() or i.islower() ]\n",
    "\n",
    "\n",
    "pages_key_words_AB_test = ['pensioneram', 'bez-snils', 'kruglosutochnye', '100000-rublej',  'qiwi']\n",
    "\n",
    "\n",
    "\n",
    "df_conv['AB_test_page'] = df_conv['page id'].apply(check_AB_test_page)\n",
    "\n",
    "\n",
    "df_conv['AB_test_page'] = df_conv['page id'].apply(check_AB_test_page)\n",
    "df_conv['AB_test_page_key'] = df_conv['page id'].apply(check_AB_test_page2)\n",
    "\n",
    "\n",
    "df_conv['AB_test_by_rank'] = df_conv['MFI page rank ab' ].isin(names_ranks_AB_test)\n",
    "\n",
    "\n",
    "df_conv_ = df_conv.copy()\n",
    "df_conv_ = df_conv_[~df_conv_['income'].isna()].copy()\n",
    "df_conv_ = df_conv_[~df_conv_['AB_test_page_key'].isna()].copy()\n",
    "\n",
    "df_conv_['Sales'] = df_conv_['status'].apply(lambda x: int(x == 'sale'))\n",
    "\n",
    "# dict_map_rename1 = dict(zip(['b', '1', 'p', 'q', 'k'],['1', '2', '3', '4', '5']))\n",
    "df_conv_['AB_test_page_key'] = df_conv_['AB_test_page_key'].map(dict_map_rename1)"
   ]
  },
  {
   "cell_type": "markdown",
   "id": "f64e2c44-82cf-489e-b612-27cd8787ad2e",
   "metadata": {},
   "source": [
    "Figure 15: The number of applications (left) and the number sales (right) for 5 page id ranked by AW’s algorithm (solid line) and by the baseline algorithm (dotted line)."
   ]
  },
  {
   "cell_type": "code",
   "execution_count": 20,
   "id": "01291edb-11d8-45f3-8326-7a76fc1100fb",
   "metadata": {
    "tags": []
   },
   "outputs": [],
   "source": [
    "p15 = AB_comp_page(df=df_cl[~df_cl['AB_test_page_key'].isna()], width=800, height=600, mode = 'cl')\n",
    "p16 = AB_comp_page(df=df_conv_[df_conv_['click time'] <= df_cl['click time'].max()], width=800, height=600, mode = 'conv')\n",
    "\n",
    "p15p16 = gridplot([[p15,p16]], width=830, height=350, merge_tools=False)\n",
    "save_or_show(p = p15p16, file_name = \"AB_comp_page_clicks_conv\", SAVE=True, SHOW=False)"
   ]
  },
  {
   "cell_type": "code",
   "execution_count": 21,
   "id": "63c3d8fb-536d-45f2-b14a-79dece03dac2",
   "metadata": {
    "tags": []
   },
   "outputs": [],
   "source": [
    "# Weekly\n",
    "df_cl_['date_click'] = df_cl_['click time'].dt.date\n",
    "df_conv_['date_click'] = df_conv_['click time'].dt.date\n",
    "\n",
    "\n",
    "start = pd.to_datetime('2023-05-15').date()\n",
    "end = pd.to_datetime('2023-08-31').date()\n",
    "df_cl_ = df_cl_[(df_cl_['date_click'] >= start) & (df_cl_['date_click'] <= end)].copy()\n",
    "df_conv_ = df_conv_[(df_conv_['date_click'] >= start) & (df_conv_['date_click'] <= end)].copy()\n",
    "\n",
    "\n",
    "df_cl_['date_week'] = df_cl_['click time'].dt.isocalendar().week.apply(lambda x: int(x))\n",
    "df_conv_['date_week'] = df_conv_['click time'].dt.isocalendar().week.apply(lambda x: int(x))\n",
    "df_cl_['date_week'] = pd.to_datetime(df_cl_['date_week'], unit = 'W', origin = pd.Timestamp('2023-01-01'))\n",
    "df_conv_['date_week'] = pd.to_datetime(df_conv_['date_week'], unit = 'W', origin = pd.Timestamp('2023-01-01'))\n",
    "\n",
    "\n",
    "df_conv_page_sale_day = df_conv_.groupby(['AB_test_by_rank','AB_test_page_key', 'date_week'])['Sales'].sum().reset_index(name='Sum_sales')\n",
    "\n",
    "df_conv_page_sale_day['for_map'] = df_conv_page_sale_day['AB_test_by_rank'].apply(lambda x: str(x)) +  df_conv_page_sale_day['AB_test_page_key'].apply(lambda x: str(x)) +  df_conv_page_sale_day['date_week'].apply(lambda x: str(x))\n",
    "\n",
    "\n",
    "df_cl_page_day = df_cl_.groupby(['AB_test_by_rank','AB_test_page_key', 'date_week']).size().reset_index(name='Size_cl')\n",
    "\n",
    "\n",
    "df_cl_page_day['for_map'] = df_cl_page_day['AB_test_by_rank'].apply(lambda x: str(x)) +  df_cl_page_day['AB_test_page_key'].apply(lambda x: str(x)) +  df_cl_page_day['date_week'].apply(lambda x: str(x))\n",
    "\n",
    "\n",
    "df_conv_page_income_day = df_conv_.groupby(['AB_test_by_rank','AB_test_page_key', 'date_week'])['income'].sum().reset_index(name='Sum_income')\n",
    "\n",
    "df_conv_page_income_day['for_map'] = df_conv_page_income_day['AB_test_by_rank'].apply(lambda x: str(x)) +  df_conv_page_income_day['AB_test_page_key'].apply(lambda x: str(x)) +  df_conv_page_income_day['date_week'].apply(lambda x: str(x))\n",
    "\n",
    "\n",
    "df_cl_page_day['by_rank_page_key'] = df_cl_page_day['AB_test_by_rank'].apply(lambda x: str(x)) +  df_cl_page_day['AB_test_page_key'].apply(lambda x: str(x))\n",
    "df_conv_page_sale_day['by_rank_page_key'] = df_conv_page_sale_day['AB_test_by_rank'].apply(lambda x: str(x)) +  df_conv_page_sale_day['AB_test_page_key'].apply(lambda x: str(x))\n",
    "\n",
    "dict_map = dict(zip(df_cl_page_day['for_map'], df_cl_page_day['Size_cl']))\n",
    "\n",
    "df_conv_page_sale_day['Size_cl'] = df_conv_page_sale_day['for_map'].map(dict_map)\n",
    "\n",
    "dict_map_inc = dict(zip(df_conv_page_income_day['for_map'], df_conv_page_income_day['Sum_income']))\n",
    "\n",
    "df_conv_page_sale_day['Sum_income'] = df_conv_page_sale_day['for_map'].map(dict_map_inc)\n",
    "\n",
    "df_conv_page_sale_day['Share by click'] = df_conv_page_sale_day['Sum_sales'] / df_conv_page_sale_day['Size_cl']\n",
    "df_conv_page_sale_day['Income by click'] = df_conv_page_sale_day['Sum_income'] / df_conv_page_sale_day['Size_cl']\n",
    "\n",
    "df4 = df_conv_page_sale_day.groupby(['AB_test_by_rank','date_week'])['Sum_sales'].sum().reset_index(name='Sum_sales')\n",
    "df4['key'] = df4['AB_test_by_rank'].apply(lambda x: str(x)) + df4['date_week'].apply(lambda x: str(x))\n",
    "dict_map1 = dict(zip(df4['key'], df4['Sum_sales']))\n",
    "\n",
    "df5 = df_conv_page_sale_day.groupby(['AB_test_by_rank','date_week'])['Size_cl'].sum().reset_index(name='Size_cl')\n",
    "df5['key'] = df5['AB_test_by_rank'].apply(lambda x: str(x)) + df5['date_week'].apply(lambda x: str(x))\n",
    "dict_map2 = dict(zip(df5['key'], df5['Size_cl']))\n",
    "\n",
    "df6 = df_conv_page_sale_day.groupby(['AB_test_by_rank','date_week'])['Sum_income'].sum().reset_index(name='Sum_income')\n",
    "df6['key'] = df6['AB_test_by_rank'].apply(lambda x: str(x)) + df6['date_week'].apply(lambda x: str(x))\n",
    "\n",
    "df6['Sum_sales'] = df6['key'].map(dict_map1)\n",
    "df6['Size_cl'] = df6['key'].map(dict_map2)\n",
    "df6['Share by click'] = df6['Sum_sales'] / df6['Size_cl']\n",
    "df6['Income by click'] = df6['Sum_income'] / df6['Size_cl']"
   ]
  },
  {
   "cell_type": "markdown",
   "id": "bd37a0dd-8e0d-4154-947f-f5c87421c24b",
   "metadata": {},
   "source": [
    "Figure 16: Weekly income and share by click for the AW and baseline algorithms. It can be seen that the baseline algorithm lines are on average higher than the AW lines."
   ]
  },
  {
   "cell_type": "code",
   "execution_count": 22,
   "id": "567314cf-f9d3-4455-bae3-e68b896924ee",
   "metadata": {
    "tags": []
   },
   "outputs": [],
   "source": [
    "p16 = comp_graph_AB(df = df6, width=830, height=264)\n",
    "save_or_show(p = p16, file_name = \"weekly_results_with_comparison_method_AB_5page\", SAVE=True, SHOW=False)"
   ]
  },
  {
   "cell_type": "code",
   "execution_count": 23,
   "id": "970a9764-8537-4987-a009-ecb486fdfc99",
   "metadata": {
    "tags": []
   },
   "outputs": [],
   "source": [
    "# Daily\n",
    "df_cl_['date_click'] = df_cl_['click time'].dt.date\n",
    "df_conv_['date_click'] = df_conv_['click time'].dt.date\n",
    "\n",
    "\n",
    "start = pd.to_datetime('2023-05-15').date()\n",
    "end = pd.to_datetime('2023-08-31').date()\n",
    "df_cl_ = df_cl_[(df_cl_['date_click'] >= start) & (df_cl_['date_click'] <= end)].copy()\n",
    "df_conv_ = df_conv_[(df_conv_['date_click'] >= start) & (df_conv_['date_click'] <= end)].copy()\n",
    "\n",
    "\n",
    "df_conv_page_sale_day = df_conv_.groupby(['AB_test_by_rank','AB_test_page_key', 'date_click'])['Sales'].sum().reset_index(name='Sum_sales')\n",
    "\n",
    "df_conv_page_sale_day['for_map'] = df_conv_page_sale_day['AB_test_by_rank'].apply(lambda x: str(x)) +  df_conv_page_sale_day['AB_test_page_key'].apply(lambda x: str(x)) +  df_conv_page_sale_day['date_click'].apply(lambda x: str(x))\n",
    "\n",
    "\n",
    "df_cl_page_day = df_cl_.groupby(['AB_test_by_rank','AB_test_page_key', 'date_click']).size().reset_index(name='Size_cl')\n",
    "\n",
    "\n",
    "df_cl_page_day['for_map'] = df_cl_page_day['AB_test_by_rank'].apply(lambda x: str(x)) +  df_cl_page_day['AB_test_page_key'].apply(lambda x: str(x)) +  df_cl_page_day['date_click'].apply(lambda x: str(x))\n",
    "\n",
    "\n",
    "df_conv_page_income_day = df_conv_.groupby(['AB_test_by_rank','AB_test_page_key', 'date_click'])['income'].sum().reset_index(name='Sum_income')\n",
    "\n",
    "df_conv_page_income_day['for_map'] = df_conv_page_income_day['AB_test_by_rank'].apply(lambda x: str(x)) +  df_conv_page_income_day['AB_test_page_key'].apply(lambda x: str(x)) +  df_conv_page_income_day['date_click'].apply(lambda x: str(x))\n",
    "\n",
    "\n",
    "df_cl_page_day['by_rank_page_key'] = df_cl_page_day['AB_test_by_rank'].apply(lambda x: str(x)) +  df_cl_page_day['AB_test_page_key'].apply(lambda x: str(x))\n",
    "df_conv_page_sale_day['by_rank_page_key'] = df_conv_page_sale_day['AB_test_by_rank'].apply(lambda x: str(x)) +  df_conv_page_sale_day['AB_test_page_key'].apply(lambda x: str(x))\n",
    "\n",
    "dict_map = dict(zip(df_cl_page_day['for_map'], df_cl_page_day['Size_cl']))\n",
    "\n",
    "df_conv_page_sale_day['Size_cl'] = df_conv_page_sale_day['for_map'].map(dict_map)\n",
    "\n",
    "dict_map_inc = dict(zip(df_conv_page_income_day['for_map'], df_conv_page_income_day['Sum_income']))\n",
    "\n",
    "df_conv_page_sale_day['Sum_income'] = df_conv_page_sale_day['for_map'].map(dict_map_inc)\n",
    "\n",
    "df_conv_page_sale_day['Share by click'] = df_conv_page_sale_day['Sum_sales'] / df_conv_page_sale_day['Size_cl']\n",
    "df_conv_page_sale_day['Income by click'] = df_conv_page_sale_day['Sum_income'] / df_conv_page_sale_day['Size_cl']\n",
    "\n",
    "df4 = df_conv_page_sale_day.groupby(['AB_test_by_rank','date_click'])['Sum_sales'].sum().reset_index(name='Sum_sales')\n",
    "df4['key'] = df4['AB_test_by_rank'].apply(lambda x: str(x)) + df4['date_click'].apply(lambda x: str(x))\n",
    "dict_map1 = dict(zip(df4['key'], df4['Sum_sales']))\n",
    "\n",
    "df5 = df_conv_page_sale_day.groupby(['AB_test_by_rank','date_click'])['Size_cl'].sum().reset_index(name='Size_cl')\n",
    "df5['key'] = df5['AB_test_by_rank'].apply(lambda x: str(x)) + df5['date_click'].apply(lambda x: str(x))\n",
    "dict_map2 = dict(zip(df5['key'], df5['Size_cl']))\n",
    "\n",
    "df6 = df_conv_page_sale_day.groupby(['AB_test_by_rank','date_click'])['Sum_income'].sum().reset_index(name='Sum_income')\n",
    "df6['key'] = df6['AB_test_by_rank'].apply(lambda x: str(x)) + df6['date_click'].apply(lambda x: str(x))\n",
    "df6['Sum_sales'] = df6['key'].map(dict_map1)\n",
    "df6['Size_cl'] = df6['key'].map(dict_map2)\n",
    "df6['Share by click'] = df6['Sum_sales'] / df6['Size_cl']\n",
    "df6['Income by click'] = df6['Sum_income'] / df6['Size_cl']"
   ]
  },
  {
   "cell_type": "markdown",
   "id": "b06575d6-25c4-4194-b72f-cc52623fd678",
   "metadata": {},
   "source": [
    "Figure 19: Daily income and share by click for the AW and baseline algorithms. It can be seen that the baseline algorithm lines are on average higher than the AW lines."
   ]
  },
  {
   "cell_type": "code",
   "execution_count": 24,
   "id": "37e2be56-b153-45c9-bd66-2d32c1a8096a",
   "metadata": {
    "tags": []
   },
   "outputs": [],
   "source": [
    "p19 = comp_graph_AB_by_day(df = df6, width=830, height=264)\n",
    "save_or_show(p = p19, file_name = \"daily_results_with_comparison_method_AB_5page\", SAVE=True, SHOW=False)"
   ]
  },
  {
   "cell_type": "markdown",
   "id": "5b4adf4d-c9e1-4ec4-bb11-c401f266451d",
   "metadata": {
    "tags": []
   },
   "source": [
    "## Figure 17"
   ]
  },
  {
   "cell_type": "code",
   "execution_count": 2,
   "id": "bafbf38f-708f-4787-be45-1f555d0808eb",
   "metadata": {},
   "outputs": [
    {
     "name": "stderr",
     "output_type": "stream",
     "text": [
      "100%|███████████████████████████████████| 107568/107568 [24:03<00:00, 74.50it/s]\n",
      "100%|█████████████████████████████████| 107568/107568 [00:12<00:00, 8797.95it/s]\n",
      "100%|███████████████████████████████████| 107568/107568 [23:36<00:00, 75.92it/s]\n",
      "100%|█████████████████████████████████| 107568/107568 [00:12<00:00, 8802.61it/s]\n",
      "100%|███████████████████████████████████| 107568/107568 [23:48<00:00, 75.32it/s]\n",
      "100%|█████████████████████████████████| 107568/107568 [00:12<00:00, 8600.99it/s]\n",
      "100%|███████████████████████████████████| 107568/107568 [24:10<00:00, 74.16it/s]\n",
      "100%|█████████████████████████████████| 107568/107568 [00:12<00:00, 8657.21it/s]\n",
      "100%|███████████████████████████████████| 107568/107568 [24:09<00:00, 74.20it/s]\n",
      "100%|█████████████████████████████████| 107568/107568 [00:12<00:00, 8575.48it/s]\n",
      "100%|███████████████████████████████████| 107568/107568 [25:08<00:00, 71.32it/s]\n",
      "100%|█████████████████████████████████| 107568/107568 [00:12<00:00, 8598.10it/s]\n"
     ]
    }
   ],
   "source": [
    "# # If there are no Pospos and Posneg dataframes need to be run:\n",
    "\n",
    "# df_Train_matr = pd.read_csv(os.path.abspath('Datasets/Train_matr.csv'), low_memory=False)\n",
    "# df_Train_matr['click time'] = pd.to_datetime(df_Train_matr['click time'])\n",
    "# df_Train_matr['tmp_date'] = df_Train_matr['click time'].dt.date\n",
    "# expir_id_ = expir_id(df = df_Train_matr)\n",
    "\n",
    "\n",
    "# PosposPosneg = create_matrix(df_Train_matr)\n",
    "\n",
    "# PosposPosneg[0].to_csv(os.path.abspath('Datasets/Pospos.csv'))\n",
    "# PosposPosneg[1].to_csv(os.path.abspath('Datasets/Posneg.csv'))"
   ]
  },
  {
   "cell_type": "code",
   "execution_count": 40,
   "id": "00227d0e-5dd6-45f6-bdc1-8889c16d9dde",
   "metadata": {
    "tags": []
   },
   "outputs": [],
   "source": [
    "# # %%capture\n",
    "# # If there are no usual_drow dataframes need to be run:\n",
    "\n",
    "# df_cl_usual = df_cl[df_cl['loan type'] == 'loan-usual'].copy()\n",
    "# df_cl_usual['tmp_date'] = df_cl_usual['click time'].dt.date\n",
    "\n",
    "# pospos = pd.read_csv(os.path.abspath('Datasets/Pospos.csv'))\n",
    "# posneg = pd.read_csv(os.path.abspath('Datasets/Posneg.csv'))\n",
    "# pospos['Unnamed: 0'] = pospos['Unnamed: 0'].apply(lambda x: str(x))\n",
    "# posneg['Unnamed: 0'] = posneg['Unnamed: 0'].apply(lambda x: str(x))\n",
    "# pospos.set_index('Unnamed: 0', inplace=True)\n",
    "# posneg.set_index('Unnamed: 0', inplace=True)\n",
    "# matrices = [pospos, posneg]\n",
    "\n",
    "# df_Train_matr = pd.read_csv(os.path.abspath('Datasets/Train_matr.csv'), low_memory=False)\n",
    "# expir_id_ = expir_id(df = df_Train_matr)\n",
    "\n",
    "# list_of_list = [\n",
    "# #                 ['Norm. LAR', 'Norm. average user rating',\n",
    "# #                  'service period (q90)', 'fairness',\n",
    "# #                  'EPC'],\n",
    "                \n",
    "# #                ['Norm. LAR', 'Norm. average user rating',\n",
    "# #                 'service period (q90)', 'EPC'],\n",
    "                \n",
    "# #                ['Norm. LAR', 'Norm. average user rating', \n",
    "# #                 'fairness', 'EPC'],\n",
    "                \n",
    "#                ['Norm. LAR', 'Norm. average user rating',\n",
    "#                 'EPC'],\n",
    "                \n",
    "#                # ['Norm. LAR', 'Norm. average user rating',\n",
    "#                #  'service period (q90)', 'fairness']\n",
    "# ]\n",
    "\n",
    "# list_df_com_usual = []\n",
    "# for chars in tqdm(list_of_list):\n",
    "#     list_df_com_usual.append(test_CoM(df_post = df_post_usual,\n",
    "#                         matrices = matrices,\n",
    "#                         df_prod = df_prod_usual,\n",
    "#                         df_clicks = df_cl_usual,\n",
    "#                         characteristics = chars,\n",
    "#                         dict_expir_id = expir_id_,\n",
    "#                         start_date = pd.to_datetime('2023-06-13', format='%Y-%m-%d'),\n",
    "#                         len_train = pd.to_timedelta('30d'),\n",
    "#                         len_test = pd.to_timedelta('1d')\n",
    "#                         ))\n",
    "\n",
    "# list_df_com_usual_drow = []\n",
    "# for df in list_df_com_usual:\n",
    "#     list_df = []\n",
    "#     for col in df.columns[1:]:\n",
    "#         list_df.append(add_col(df_=df[['date', col]].copy(),\n",
    "#                                col=col,\n",
    "#                               card = 'usual'))\n",
    "\n",
    "#     stat_day = pd.concat(list_df)\n",
    "#     list_df_com_usual_drow.append(stat_day)\n",
    "\n",
    "# usual_drow = tmp_drow_com(list_df=list_df_com_usual_drow)\n",
    "# usual_drow.to_csv(os.path.abspath('Datasets/usual_drow.csv'), index=False)"
   ]
  },
  {
   "cell_type": "markdown",
   "id": "1387f629-a535-42e8-944c-0d75d74153d6",
   "metadata": {},
   "source": [
    "Daily income and share for historical data and baseline algorithm. The result of comparing the baseline algorithm with historical data, using the comparison method, shows that the loan approval rate almost doubled and the average revenue increased."
   ]
  },
  {
   "cell_type": "code",
   "execution_count": 25,
   "id": "28c507e1-0183-4125-b1dc-12820cdc09ea",
   "metadata": {
    "tags": []
   },
   "outputs": [],
   "source": [
    "usual_drow = pd.read_csv(os.path.abspath('Datasets/usual_drow.csv'))\n",
    "usual_drow['date'] = pd.to_datetime(usual_drow['date'])\n",
    "\n",
    "\n",
    "p17 = comp_graph(df = usual_drow, width=830, height=264)\n",
    "save_or_show(p = p17, file_name = \"results_with_comparison_method\", SAVE=True, SHOW=False)"
   ]
  },
  {
   "cell_type": "markdown",
   "id": "c84cd994-1980-447c-9bf2-e4bfe45dc902",
   "metadata": {},
   "source": [
    "# Figure 18"
   ]
  },
  {
   "cell_type": "markdown",
   "id": "c09a51b7-0ae4-4df6-a574-a5c5a7c161c1",
   "metadata": {},
   "source": [
    "The shares of applications processed within the consideration time plus payment time are shown in green, while the shares of applications whose processing time exceeds the declared time are shown in red."
   ]
  },
  {
   "cell_type": "code",
   "execution_count": 26,
   "id": "ec60ddf8-ceaf-4d5d-8671-c307f21791ca",
   "metadata": {
    "tags": []
   },
   "outputs": [],
   "source": [
    "p18 = Fig18(df_prod = df_prod_usual, width=830, height=264)\n",
    "\n",
    "save_or_show(p = p18, file_name = \"process_application_on_time\", SAVE=True, SHOW=False)"
   ]
  },
  {
   "cell_type": "code",
   "execution_count": null,
   "id": "46c86c0b-fcc1-4d7c-9b69-333d68443c54",
   "metadata": {},
   "outputs": [],
   "source": []
  }
 ],
 "metadata": {
  "kernelspec": {
   "display_name": "Python 3 (ipykernel)",
   "language": "python",
   "name": "python3"
  },
  "language_info": {
   "codemirror_mode": {
    "name": "ipython",
    "version": 3
   },
   "file_extension": ".py",
   "mimetype": "text/x-python",
   "name": "python",
   "nbconvert_exporter": "python",
   "pygments_lexer": "ipython3",
   "version": "3.9.19"
  }
 },
 "nbformat": 4,
 "nbformat_minor": 5
}
